{
 "cells": [
  {
   "cell_type": "code",
   "execution_count": 39,
   "id": "35498a36-a08f-42b3-8bf9-f1a0669553f1",
   "metadata": {},
   "outputs": [],
   "source": [
    "import  sklearn\n",
    "import pandas as pd\n",
    "import numpy as np"
   ]
  },
  {
   "cell_type": "code",
   "execution_count": 3,
   "id": "bc899fd2-f4b8-4562-96f5-67f8077e7a15",
   "metadata": {},
   "outputs": [],
   "source": [
    "from sklearn import datasets\n",
    "\n",
    "california_dateset = sklearn.datasets.fetch_california_housing(as_frame=True)\n"
   ]
  },
  {
   "cell_type": "code",
   "execution_count": 25,
   "id": "da225f8e-b9b5-4478-9fe3-ee399248c54f",
   "metadata": {},
   "outputs": [],
   "source": [
    "df = pd.DataFrame(california_dateset.data)"
   ]
  },
  {
   "cell_type": "code",
   "execution_count": 27,
   "id": "a59df355-b7cf-44b2-aa1a-1d69a4eadc7a",
   "metadata": {},
   "outputs": [
    {
     "data": {
      "text/html": [
       "<div>\n",
       "<style scoped>\n",
       "    .dataframe tbody tr th:only-of-type {\n",
       "        vertical-align: middle;\n",
       "    }\n",
       "\n",
       "    .dataframe tbody tr th {\n",
       "        vertical-align: top;\n",
       "    }\n",
       "\n",
       "    .dataframe thead th {\n",
       "        text-align: right;\n",
       "    }\n",
       "</style>\n",
       "<table border=\"1\" class=\"dataframe\">\n",
       "  <thead>\n",
       "    <tr style=\"text-align: right;\">\n",
       "      <th></th>\n",
       "      <th>MedInc</th>\n",
       "      <th>HouseAge</th>\n",
       "      <th>AveRooms</th>\n",
       "      <th>AveBedrms</th>\n",
       "      <th>Population</th>\n",
       "      <th>AveOccup</th>\n",
       "      <th>Latitude</th>\n",
       "      <th>Longitude</th>\n",
       "    </tr>\n",
       "  </thead>\n",
       "  <tbody>\n",
       "    <tr>\n",
       "      <th>0</th>\n",
       "      <td>8.3252</td>\n",
       "      <td>41.0</td>\n",
       "      <td>6.984127</td>\n",
       "      <td>1.023810</td>\n",
       "      <td>322.0</td>\n",
       "      <td>2.555556</td>\n",
       "      <td>37.88</td>\n",
       "      <td>-122.23</td>\n",
       "    </tr>\n",
       "    <tr>\n",
       "      <th>1</th>\n",
       "      <td>8.3014</td>\n",
       "      <td>21.0</td>\n",
       "      <td>6.238137</td>\n",
       "      <td>0.971880</td>\n",
       "      <td>2401.0</td>\n",
       "      <td>2.109842</td>\n",
       "      <td>37.86</td>\n",
       "      <td>-122.22</td>\n",
       "    </tr>\n",
       "    <tr>\n",
       "      <th>2</th>\n",
       "      <td>7.2574</td>\n",
       "      <td>52.0</td>\n",
       "      <td>8.288136</td>\n",
       "      <td>1.073446</td>\n",
       "      <td>496.0</td>\n",
       "      <td>2.802260</td>\n",
       "      <td>37.85</td>\n",
       "      <td>-122.24</td>\n",
       "    </tr>\n",
       "    <tr>\n",
       "      <th>3</th>\n",
       "      <td>5.6431</td>\n",
       "      <td>52.0</td>\n",
       "      <td>5.817352</td>\n",
       "      <td>1.073059</td>\n",
       "      <td>558.0</td>\n",
       "      <td>2.547945</td>\n",
       "      <td>37.85</td>\n",
       "      <td>-122.25</td>\n",
       "    </tr>\n",
       "    <tr>\n",
       "      <th>4</th>\n",
       "      <td>3.8462</td>\n",
       "      <td>52.0</td>\n",
       "      <td>6.281853</td>\n",
       "      <td>1.081081</td>\n",
       "      <td>565.0</td>\n",
       "      <td>2.181467</td>\n",
       "      <td>37.85</td>\n",
       "      <td>-122.25</td>\n",
       "    </tr>\n",
       "  </tbody>\n",
       "</table>\n",
       "</div>"
      ],
      "text/plain": [
       "   MedInc  HouseAge  AveRooms  AveBedrms  Population  AveOccup  Latitude  \\\n",
       "0  8.3252      41.0  6.984127   1.023810       322.0  2.555556     37.88   \n",
       "1  8.3014      21.0  6.238137   0.971880      2401.0  2.109842     37.86   \n",
       "2  7.2574      52.0  8.288136   1.073446       496.0  2.802260     37.85   \n",
       "3  5.6431      52.0  5.817352   1.073059       558.0  2.547945     37.85   \n",
       "4  3.8462      52.0  6.281853   1.081081       565.0  2.181467     37.85   \n",
       "\n",
       "   Longitude  \n",
       "0    -122.23  \n",
       "1    -122.22  \n",
       "2    -122.24  \n",
       "3    -122.25  \n",
       "4    -122.25  "
      ]
     },
     "execution_count": 27,
     "metadata": {},
     "output_type": "execute_result"
    }
   ],
   "source": [
    "df.head(5)"
   ]
  },
  {
   "cell_type": "code",
   "execution_count": 33,
   "id": "7877bb12-45e3-426f-b6e7-f369618c5204",
   "metadata": {},
   "outputs": [],
   "source": [
    "numerical_feature = 'MedInc'"
   ]
  },
  {
   "cell_type": "code",
   "execution_count": 41,
   "id": "94d4544c-4de6-4ad1-a288-a600be712d28",
   "metadata": {},
   "outputs": [
    {
     "name": "stdout",
     "output_type": "stream",
     "text": [
      "outloers detecting using zscore method\n",
      "        MedInc  HouseAge  AveRooms  AveBedrms  Population  AveOccup  Latitude  \\\n",
      "131    11.6017      18.0  8.335052   1.082474       533.0  2.747423     37.84   \n",
      "409    10.0825      52.0  8.209016   1.024590       658.0  2.696721     37.90   \n",
      "510    11.8603      39.0  7.911111   0.984127       808.0  2.565079     37.82   \n",
      "511    13.4990      42.0  8.928358   1.000000      1018.0  3.038806     37.82   \n",
      "512    12.2138      52.0  9.210227   1.039773      1001.0  2.843750     37.82   \n",
      "...        ...       ...       ...        ...         ...       ...       ...   \n",
      "20376  10.2614      16.0  6.421277   0.919149       578.0  2.459574     34.16   \n",
      "20380  10.1597      16.0  7.606936   1.121387       450.0  2.601156     34.14   \n",
      "20389  10.0595      26.0  8.692308   1.076923       573.0  3.148352     34.19   \n",
      "20426  10.0472      11.0  9.890756   1.159664       415.0  3.487395     34.18   \n",
      "20436  12.5420      10.0  9.873315   1.102426      1179.0  3.177898     34.21   \n",
      "\n",
      "       Longitude  \n",
      "131      -122.19  \n",
      "409      -122.28  \n",
      "510      -122.22  \n",
      "511      -122.22  \n",
      "512      -122.23  \n",
      "...          ...  \n",
      "20376    -118.86  \n",
      "20380    -118.83  \n",
      "20389    -118.90  \n",
      "20426    -118.69  \n",
      "20436    -118.69  \n",
      "\n",
      "[345 rows x 8 columns]\n"
     ]
    }
   ],
   "source": [
    "zscores =  (df[numerical_feature]- df[numerical_feature].mean())/df[numerical_feature].std()\n",
    "thershold=3\n",
    "outliers =  df[np.abs(zscores)> thershold]\n",
    "print(\"outloers detecting using zscore method\")\n",
    "print(outliers)"
   ]
  },
  {
   "cell_type": "code",
   "execution_count": 49,
   "id": "72170c9b-d8ba-4fc0-8ed2-00be51404387",
   "metadata": {},
   "outputs": [
    {
     "name": "stdout",
     "output_type": "stream",
     "text": [
      "Outliers using IQR METHOD\n",
      "        MedInc  HouseAge  AveRooms  AveBedrms  Population  AveOccup  Latitude  \\\n",
      "0       8.3252      41.0  6.984127   1.023810       322.0  2.555556     37.88   \n",
      "1       8.3014      21.0  6.238137   0.971880      2401.0  2.109842     37.86   \n",
      "131    11.6017      18.0  8.335052   1.082474       533.0  2.747423     37.84   \n",
      "134     8.2049      28.0  6.978947   0.968421       463.0  2.436842     37.83   \n",
      "135     8.4010      26.0  7.530806   1.056872       542.0  2.568720     37.83   \n",
      "...        ...       ...       ...        ...         ...       ...       ...   \n",
      "20426  10.0472      11.0  9.890756   1.159664       415.0  3.487395     34.18   \n",
      "20427   8.6499       4.0  7.236059   1.032528      5495.0  2.553439     34.19   \n",
      "20428   8.7288       6.0  8.715842   1.102970      3385.0  3.351485     34.23   \n",
      "20436  12.5420      10.0  9.873315   1.102426      1179.0  3.177898     34.21   \n",
      "20503   8.2787      27.0  6.935065   1.103896       243.0  3.155844     34.33   \n",
      "\n",
      "       Longitude  \n",
      "0        -122.23  \n",
      "1        -122.22  \n",
      "131      -122.19  \n",
      "134      -122.19  \n",
      "135      -122.20  \n",
      "...          ...  \n",
      "20426    -118.69  \n",
      "20427    -118.80  \n",
      "20428    -118.83  \n",
      "20436    -118.69  \n",
      "20503    -118.75  \n",
      "\n",
      "[681 rows x 8 columns]\n"
     ]
    }
   ],
   "source": [
    "# cal the first quartile and 3rd quartile\n",
    "q1 = df[numerical_feature].quantile(0.25)\n",
    "q3 = df[numerical_feature].quantile(0.75)\n",
    "\n",
    "# calculate inter quantile range (IQR)\n",
    "IQR= q3 -q1\n",
    "\n",
    "# Sert thrreshold\n",
    "thershold = 1.5\n",
    "\n",
    "# Identify outliers\n",
    "outliers = df[(df[numerical_feature] < (q1 - thershold * IQR))|(df[numerical_feature]> (q3 + thershold *IQR))]\n",
    "\n",
    "# Display outliers\n",
    "print(\"Outliers using IQR METHOD\")\n",
    "print(outliers)\n"
   ]
  },
  {
   "cell_type": "code",
   "execution_count": null,
   "id": "f2218853-8740-4a06-8d42-1407f1d8b563",
   "metadata": {},
   "outputs": [],
   "source": []
  }
 ],
 "metadata": {
  "kernelspec": {
   "display_name": "Python 3 (ipykernel)",
   "language": "python",
   "name": "python3"
  },
  "language_info": {
   "codemirror_mode": {
    "name": "ipython",
    "version": 3
   },
   "file_extension": ".py",
   "mimetype": "text/x-python",
   "name": "python",
   "nbconvert_exporter": "python",
   "pygments_lexer": "ipython3",
   "version": "3.11.5"
  }
 },
 "nbformat": 4,
 "nbformat_minor": 5
}
