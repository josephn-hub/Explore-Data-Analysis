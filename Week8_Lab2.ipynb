{
 "cells": [
  {
   "cell_type": "markdown",
   "metadata": {
    "id": "ETlaKzwy70a8"
   },
   "source": [
    "# IQR technique to handle the outliers"
   ]
  },
  {
   "cell_type": "markdown",
   "metadata": {
    "id": "3qS4E7tIaMqg"
   },
   "source": [
    "**Example 1**"
   ]
  },
  {
   "cell_type": "markdown",
   "metadata": {
    "id": "lLBkrxtX73-y"
   },
   "source": [
    "Here's a Python code using the numpy library to demonstrate the IQR method for handling outliers:"
   ]
  },
  {
   "cell_type": "code",
   "execution_count": 86,
   "metadata": {
    "colab": {
     "base_uri": "https://localhost:8080/"
    },
    "id": "1UFVmxBC7cs8",
    "outputId": "d0340968-c690-40de-b7c3-55ea48053242"
   },
   "outputs": [
    {
     "name": "stdout",
     "output_type": "stream",
     "text": [
      "Outliers: [52]\n"
     ]
    }
   ],
   "source": [
    "import numpy as np\n",
    "\n",
    "def detect_outliers_iqr(data, factor=1.5):\n",
    "    \"\"\"\n",
    "    Detects outliers using IQR method.\n",
    "\n",
    "    :param data: List or array-like data points.\n",
    "    :param factor: Multiplier for IQR, usually 1.5. Adjust to be more or less strict.\n",
    "    :return: List of outliers.\n",
    "    \"\"\"\n",
    "    quartile_1, quartile_3 = np.percentile(data, [25, 75])\n",
    "    iqr = quartile_3 - quartile_1\n",
    "    lower_bound = quartile_1 - (iqr * factor)\n",
    "    upper_bound = quartile_3 + (iqr * factor)\n",
    "\n",
    "    outliers = [point for point in data if point < lower_bound or point > upper_bound]\n",
    "    return outliers\n",
    "\n",
    "# data points\n",
    "data = [10, 12, 12, 13, 12, 11, 11, 52, 13, 12, 11]\n",
    "\n",
    "# Detecting outliers\n",
    "outliers = detect_outliers_iqr(data)\n",
    "\n",
    "print(\"Outliers:\", outliers)\n",
    "\n"
   ]
  },
  {
   "cell_type": "markdown",
   "metadata": {
    "id": "_dz1mdCZ77V5"
   },
   "source": [
    "In the above code:\n",
    "\n",
    "We first compute the first and third quartiles. We then compute the IQR. We identify the lower and upper bounds for what's considered a non-outlier. We finally return the list of values that are below the lower bound or above the upper bound as outliers."
   ]
  },
  {
   "cell_type": "markdown",
   "metadata": {
    "id": "x932lmeeaO7N"
   },
   "source": [
    "**Example 2**"
   ]
  },
  {
   "cell_type": "code",
   "execution_count": 90,
   "metadata": {
    "colab": {
     "base_uri": "https://localhost:8080/"
    },
    "executionInfo": {
     "elapsed": 1238,
     "status": "ok",
     "timestamp": 1692291492998,
     "user": {
      "displayName": "Academics Careerera",
      "userId": "09489366406537911155"
     },
     "user_tz": -330
    },
    "id": "wV78JJN071hV",
    "outputId": "1b6074b0-76cf-40ec-805c-bcdf556e04ff"
   },
   "outputs": [
    {
     "name": "stdout",
     "output_type": "stream",
     "text": [
      "Original Dataset Length: 53940\n",
      "\n",
      "Dataset Length without Outliers based on price: 50400\n"
     ]
    }
   ],
   "source": [
    "import pandas as pd\n",
    "import seaborn as sns\n",
    "\n",
    "# Load the diamonds dataset from seaborn\n",
    "df = sns.load_dataset('diamonds')\n",
    "\n",
    "# Calculate Q1, Q3, and IQR for the 'price' column\n",
    "Q1 = df['price'].quantile(0.25)\n",
    "Q3 = df['price'].quantile(0.75)\n",
    "IQR = Q3 - Q1\n",
    "\n",
    "# Define bounds\n",
    "lower_bound = Q1 - 1.5 * IQR\n",
    "upper_bound = Q3 + 1.5 * IQR\n",
    "\n",
    "# Filter rows in dataframe to exclude data points that are outliers for 'price'\n",
    "df_no_outliers = df[(df['price'] >= lower_bound) & (df['price'] <= upper_bound)]\n",
    "\n",
    "print(\"Original Dataset Length:\", len(df))\n",
    "print(\"\\nDataset Length without Outliers based on price:\", len(df_no_outliers))\n"
   ]
  },
  {
   "cell_type": "markdown",
   "metadata": {
    "id": "xdD7mZy4bxx0"
   },
   "source": [
    "The output will show a difference in the lengths of the original dataset and the filtered dataset, indicating that some outlier rows based on the price column were removed.\n",
    "\n",
    "You can also visualize the outliers using box plots. Before and after the filtering process:"
   ]
  },
  {
   "cell_type": "code",
   "execution_count": 93,
   "metadata": {
    "colab": {
     "base_uri": "https://localhost:8080/",
     "height": 957
    },
    "executionInfo": {
     "elapsed": 1326,
     "status": "ok",
     "timestamp": 1692291515107,
     "user": {
      "displayName": "Academics Careerera",
      "userId": "09489366406537911155"
     },
     "user_tz": -330
    },
    "id": "pit2hMdIaQ-u",
    "outputId": "132bd622-a7ed-47ee-b3d5-7c534eb591b2"
   },
   "outputs": [
    {
     "data": {
      "image/png": "[encoded data removed]",
      "text/plain": [
       "<Figure size 1000x500 with 1 Axes>"
      ]
     },
     "metadata": {},
     "output_type": "display_data"
    },
    {
     "data": {
      "image/png": "[encoded data removed]",
      "text/plain": [
       "<Figure size 1000x500 with 1 Axes>"
      ]
     },
     "metadata": {},
     "output_type": "display_data"
    }
   ],
   "source": [
    "import matplotlib.pyplot as plt\n",
    "\n",
    "# Original data visualization\n",
    "plt.figure(figsize=(10, 5))\n",
    "sns.boxplot(x=df['price'])\n",
    "plt.title('Original Data')\n",
    "plt.show()\n",
    "\n",
    "# Data without outliers visualization\n",
    "plt.figure(figsize=(10, 5))\n",
    "sns.boxplot(x=df_no_outliers['price'])\n",
    "plt.title('Data without Outliers')\n",
    "plt.show()\n"
   ]
  },
  {
   "cell_type": "code",
   "execution_count": 95,
   "metadata": {
    "id": "71PYvvpZcDRn"
   },
   "outputs": [],
   "source": [
    "# import sklearn module\n",
    "import  sklearn\n",
    "from sklearn import datasets\n",
    "\n",
    "# Loading california dataset for getting outliers using IQR method\n",
    "california_dateset = sklearn.datasets.fetch_california_housing(as_frame=True)\n",
    "df = pd.DataFrame(california_dateset.data)"
   ]
  },
  {
   "cell_type": "code",
   "execution_count": 97,
   "metadata": {},
   "outputs": [
    {
     "data": {
      "text/html": [
       "<div>\n",
       "<style scoped>\n",
       "    .dataframe tbody tr th:only-of-type {\n",
       "        vertical-align: middle;\n",
       "    }\n",
       "\n",
       "    .dataframe tbody tr th {\n",
       "        vertical-align: top;\n",
       "    }\n",
       "\n",
       "    .dataframe thead th {\n",
       "        text-align: right;\n",
       "    }\n",
       "</style>\n",
       "<table border=\"1\" class=\"dataframe\">\n",
       "  <thead>\n",
       "    <tr style=\"text-align: right;\">\n",
       "      <th></th>\n",
       "      <th>MedInc</th>\n",
       "      <th>HouseAge</th>\n",
       "      <th>AveRooms</th>\n",
       "      <th>AveBedrms</th>\n",
       "      <th>Population</th>\n",
       "      <th>AveOccup</th>\n",
       "      <th>Latitude</th>\n",
       "      <th>Longitude</th>\n",
       "    </tr>\n",
       "  </thead>\n",
       "  <tbody>\n",
       "    <tr>\n",
       "      <th>0</th>\n",
       "      <td>8.3252</td>\n",
       "      <td>41.0</td>\n",
       "      <td>6.984127</td>\n",
       "      <td>1.023810</td>\n",
       "      <td>322.0</td>\n",
       "      <td>2.555556</td>\n",
       "      <td>37.88</td>\n",
       "      <td>-122.23</td>\n",
       "    </tr>\n",
       "    <tr>\n",
       "      <th>1</th>\n",
       "      <td>8.3014</td>\n",
       "      <td>21.0</td>\n",
       "      <td>6.238137</td>\n",
       "      <td>0.971880</td>\n",
       "      <td>2401.0</td>\n",
       "      <td>2.109842</td>\n",
       "      <td>37.86</td>\n",
       "      <td>-122.22</td>\n",
       "    </tr>\n",
       "    <tr>\n",
       "      <th>2</th>\n",
       "      <td>7.2574</td>\n",
       "      <td>52.0</td>\n",
       "      <td>8.288136</td>\n",
       "      <td>1.073446</td>\n",
       "      <td>496.0</td>\n",
       "      <td>2.802260</td>\n",
       "      <td>37.85</td>\n",
       "      <td>-122.24</td>\n",
       "    </tr>\n",
       "    <tr>\n",
       "      <th>3</th>\n",
       "      <td>5.6431</td>\n",
       "      <td>52.0</td>\n",
       "      <td>5.817352</td>\n",
       "      <td>1.073059</td>\n",
       "      <td>558.0</td>\n",
       "      <td>2.547945</td>\n",
       "      <td>37.85</td>\n",
       "      <td>-122.25</td>\n",
       "    </tr>\n",
       "    <tr>\n",
       "      <th>4</th>\n",
       "      <td>3.8462</td>\n",
       "      <td>52.0</td>\n",
       "      <td>6.281853</td>\n",
       "      <td>1.081081</td>\n",
       "      <td>565.0</td>\n",
       "      <td>2.181467</td>\n",
       "      <td>37.85</td>\n",
       "      <td>-122.25</td>\n",
       "    </tr>\n",
       "  </tbody>\n",
       "</table>\n",
       "</div>"
      ],
      "text/plain": [
       "   MedInc  HouseAge  AveRooms  AveBedrms  Population  AveOccup  Latitude  \\\n",
       "0  8.3252      41.0  6.984127   1.023810       322.0  2.555556     37.88   \n",
       "1  8.3014      21.0  6.238137   0.971880      2401.0  2.109842     37.86   \n",
       "2  7.2574      52.0  8.288136   1.073446       496.0  2.802260     37.85   \n",
       "3  5.6431      52.0  5.817352   1.073059       558.0  2.547945     37.85   \n",
       "4  3.8462      52.0  6.281853   1.081081       565.0  2.181467     37.85   \n",
       "\n",
       "   Longitude  \n",
       "0    -122.23  \n",
       "1    -122.22  \n",
       "2    -122.24  \n",
       "3    -122.25  \n",
       "4    -122.25  "
      ]
     },
     "execution_count": 97,
     "metadata": {},
     "output_type": "execute_result"
    }
   ],
   "source": [
    "df.head(5)"
   ]
  },
  {
   "cell_type": "code",
   "execution_count": 99,
   "metadata": {},
   "outputs": [
    {
     "name": "stdout",
     "output_type": "stream",
     "text": [
      "<class 'pandas.core.frame.DataFrame'>\n",
      "RangeIndex: 20640 entries, 0 to 20639\n",
      "Data columns (total 8 columns):\n",
      " #   Column      Non-Null Count  Dtype  \n",
      "---  ------      --------------  -----  \n",
      " 0   MedInc      20640 non-null  float64\n",
      " 1   HouseAge    20640 non-null  float64\n",
      " 2   AveRooms    20640 non-null  float64\n",
      " 3   AveBedrms   20640 non-null  float64\n",
      " 4   Population  20640 non-null  float64\n",
      " 5   AveOccup    20640 non-null  float64\n",
      " 6   Latitude    20640 non-null  float64\n",
      " 7   Longitude   20640 non-null  float64\n",
      "dtypes: float64(8)\n",
      "memory usage: 1.3 MB\n"
     ]
    }
   ],
   "source": [
    "df.info()"
   ]
  },
  {
   "cell_type": "code",
   "execution_count": 101,
   "metadata": {},
   "outputs": [],
   "source": [
    "# Setting num_feature variable for a float column\n",
    "num_feature='AveRooms'"
   ]
  },
  {
   "cell_type": "code",
   "execution_count": 103,
   "metadata": {},
   "outputs": [
    {
     "name": "stdout",
     "output_type": "stream",
     "text": [
      "Outliers using IQR METHOD\n",
      "        MedInc  HouseAge  AveRooms  AveBedrms  Population  AveOccup  Latitude  \\\n",
      "73      0.4999      46.0  1.714286   0.571429        18.0  2.571429     37.81   \n",
      "155     8.8793      52.0  8.972868   1.131783       861.0  3.337209     37.81   \n",
      "511    13.4990      42.0  8.928358   1.000000      1018.0  3.038806     37.82   \n",
      "512    12.2138      52.0  9.210227   1.039773      1001.0  2.843750     37.82   \n",
      "514    12.3804      52.0  9.122715   1.033943      1192.0  3.112272     37.82   \n",
      "...        ...       ...       ...        ...         ...       ...       ...   \n",
      "20408   7.7889      26.0  8.730038   1.045627       842.0  3.201521     34.19   \n",
      "20426  10.0472      11.0  9.890756   1.159664       415.0  3.487395     34.18   \n",
      "20428   8.7288       6.0  8.715842   1.102970      3385.0  3.351485     34.23   \n",
      "20436  12.5420      10.0  9.873315   1.102426      1179.0  3.177898     34.21   \n",
      "20462   5.8578      21.0  8.652174   1.062112      1114.0  3.459627     34.28   \n",
      "\n",
      "       Longitude  \n",
      "73       -122.29  \n",
      "155      -122.23  \n",
      "511      -122.22  \n",
      "512      -122.23  \n",
      "514      -122.23  \n",
      "...          ...  \n",
      "20408    -118.88  \n",
      "20426    -118.69  \n",
      "20428    -118.83  \n",
      "20436    -118.69  \n",
      "20462    -118.76  \n",
      "\n",
      "[511 rows x 8 columns]\n"
     ]
    }
   ],
   "source": [
    "# cal the first quartile and 3rd quartile\n",
    "q1 = df[num_feature].quantile(0.25)\n",
    "q3 = df[num_feature].quantile(0.75)\n",
    "\n",
    "# calculate inter quantile range (IQR)\n",
    "IQR= q3 -q1\n",
    "\n",
    "# Sert thrreshold\n",
    "thershold = 1.5\n",
    "\n",
    "# Setting lower and upper bounds\n",
    "\n",
    "lower_bound = q1 - thershold * IQR\n",
    "upper_bound = q3 + thershold *IQR\n",
    "\n",
    "# Identify outliers\n",
    "outliers = df[(df[num_feature] < lower_bound)|(df[num_feature]> upper_bound)]\n",
    "\n",
    "# Display outliers\n",
    "print(\"Outliers using IQR METHOD\")\n",
    "print(outliers)"
   ]
  },
  {
   "cell_type": "code",
   "execution_count": 105,
   "metadata": {},
   "outputs": [
    {
     "name": "stdout",
     "output_type": "stream",
     "text": [
      "[NbConvertApp] Converting notebook Week8_Lab2.ipynb to webpdf\n",
      "[NbConvertApp] Building PDF\n",
      "[NbConvertApp] PDF successfully created\n",
      "[NbConvertApp] Writing 343965 bytes to Week8_Lab2.pdf\n"
     ]
    }
   ],
   "source": [
    "!jupyter nbconvert --to webpdf --allow-chromium-download Week8_Lab2.ipynb"
   ]
  },
  {
   "cell_type": "code",
   "execution_count": null,
   "metadata": {},
   "outputs": [],
   "source": []
  }
 ],
 "metadata": {
  "colab": {
   "provenance": []
  },
  "kernelspec": {
   "display_name": "Python 3 (ipykernel)",
   "language": "python",
   "name": "python3"
  },
  "language_info": {
   "codemirror_mode": {
    "name": "ipython",
    "version": 3
   },
   "file_extension": ".py",
   "mimetype": "text/x-python",
   "name": "python",
   "nbconvert_exporter": "python",
   "pygments_lexer": "ipython3",
   "version": "3.11.5"
  }
 },
 "nbformat": 4,
 "nbformat_minor": 4
}
