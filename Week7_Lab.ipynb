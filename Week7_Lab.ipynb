{
 "cells": [
  {
   "cell_type": "markdown",
   "metadata": {
    "id": "cGvZAa2dMbMi"
   },
   "source": [
    "# Measure of Central Tendency - Mean, Median and Mode"
   ]
  },
  {
   "cell_type": "code",
   "execution_count": 3,
   "metadata": {
    "colab": {
     "base_uri": "https://localhost:8080/"
    },
    "id": "QoJVXftJMeNe",
    "outputId": "13d47df7-1355-49ee-d73e-59c5d3330a0f"
   },
   "outputs": [
    {
     "name": "stdout",
     "output_type": "stream",
     "text": [
      "Mean: 6.7\n",
      "Median: 7.0\n",
      "Mode: 7\n"
     ]
    }
   ],
   "source": [
    "import numpy as np\n",
    "import pandas as pd\n",
    "\n",
    "# Sample data\n",
    "data = [4, 5, 5, 6, 7, 7, 7, 8, 9, 9]\n",
    "\n",
    "# Using numpy for mean and median\n",
    "mean_val = np.mean(data)\n",
    "median_val = np.median(data)\n",
    "\n",
    "# Using pandas for mode since numpy does not have a straightforward function for mode\n",
    "mode_val = pd.Series(data).mode()\n",
    "\n",
    "# Displaying results\n",
    "print(f\"Mean: {mean_val}\")\n",
    "print(f\"Median: {median_val}\")\n",
    "print(f\"Mode: {mode_val.iloc[0]}\")  # iloc[0] is used to retrieve the first mode if there are multiple modes\n",
    "\n",
    "# Note: If the dataset has multiple modes, only the first mode will be printed with the above code.\n"
   ]
  },
  {
   "cell_type": "markdown",
   "metadata": {
    "id": "I8u__80IM5Eu"
   },
   "source": [
    "# Hypothesis Testing"
   ]
  },
  {
   "cell_type": "markdown",
   "metadata": {
    "id": "hnpxlsX8M-Lo"
   },
   "source": [
    "In this example, we'll use the scipy library to perform a one-sample t-test. This test determines whether the mean of a sample dataset is statistically different from a known or hypothesized population mean.\n",
    "\n",
    "Let's assume you have sample data from students' scores in a particular exam, and you want to test if the mean of this sample differs significantly from a hypothesized average score of 50."
   ]
  },
  {
   "cell_type": "markdown",
   "metadata": {
    "id": "EGc4i7PHfgep"
   },
   "source": [
    "**Example 1**"
   ]
  },
  {
   "cell_type": "code",
   "execution_count": 8,
   "metadata": {
    "colab": {
     "base_uri": "https://localhost:8080/"
    },
    "id": "oXywcNY9Mevg",
    "outputId": "28b2fdcf-cb21-4d50-c73d-d3bcf9b73118"
   },
   "outputs": [
    {
     "name": "stdout",
     "output_type": "stream",
     "text": [
      "t-statistic: 0.6279069767441852\n",
      "p-value: 0.5456654892990036\n",
      "We fail to reject the null hypothesis: There's no significant difference between the sample mean and the hypothesized population mean.\n"
     ]
    }
   ],
   "source": [
    "import numpy as np\n",
    "from scipy import stats\n",
    "\n",
    "# Sample exam scores\n",
    "data = [56, 45, 48, 52, 58, 49, 46, 47, 53, 55]\n",
    "\n",
    "# Hypothesized population mean\n",
    "mu = 50\n",
    "\n",
    "# Perform one-sample t-test\n",
    "t_statistic, p_value = stats.ttest_1samp(data, mu)\n",
    "\n",
    "# Display results\n",
    "print(f\"t-statistic: {t_statistic}\")\n",
    "print(f\"p-value: {p_value}\")\n",
    "\n",
    "# Interpretation of results\n",
    "alpha = 0.05  # significance level\n",
    "if p_value < alpha:\n",
    "    print(\"We reject the null hypothesis: The sample mean is significantly different from the hypothesized population mean.\")\n",
    "else:\n",
    "    print(\"We fail to reject the null hypothesis: There's no significant difference between the sample mean and the hypothesized population mean.\")\n"
   ]
  },
  {
   "cell_type": "markdown",
   "metadata": {
    "id": "BadfDy5Efj5-"
   },
   "source": [
    "**Example 2**"
   ]
  },
  {
   "cell_type": "code",
   "execution_count": 11,
   "metadata": {
    "colab": {
     "base_uri": "https://localhost:8080/"
    },
    "executionInfo": {
     "elapsed": 1940,
     "status": "ok",
     "timestamp": 1692292524544,
     "user": {
      "displayName": "Academics Careerera",
      "userId": "09489366406537911155"
     },
     "user_tz": -330
    },
    "id": "ymPNILELNAxN",
    "outputId": "c394b663-6443-42b2-a027-a6b998e5389e"
   },
   "outputs": [
    {
     "name": "stdout",
     "output_type": "stream",
     "text": [
      "T-statistic: 0.6409183514112012\n",
      "P-value: 0.5225602746220779\n",
      "Fail to reject the null hypothesis: The data does not provide enough evidence to say the mean sepal_length is different from the hypothesized mean.\n"
     ]
    }
   ],
   "source": [
    "import numpy as np\n",
    "import seaborn as sns\n",
    "from scipy.stats import ttest_1samp\n",
    "\n",
    "# Load the iris dataset from seaborn\n",
    "df = sns.load_dataset('iris')\n",
    "\n",
    "# Hypothesized population mean for sepal_length (for example, let's take 5.8)\n",
    "mu_hypothesized = 5.8\n",
    "\n",
    "# Perform a one-sample t-test\n",
    "t_stat, p_value = ttest_1samp(df['sepal_length'], mu_hypothesized)\n",
    "\n",
    "print(f\"T-statistic: {t_stat}\")\n",
    "print(f\"P-value: {p_value}\")\n",
    "\n",
    "alpha = 0.05\n",
    "if p_value < alpha:\n",
    "    print(\"Reject the null hypothesis: The mean sepal_length of the sample is statistically different from the hypothesized mean.\")\n",
    "else:\n",
    "    print(\"Fail to reject the null hypothesis: The data does not provide enough evidence to say the mean sepal_length is different from the hypothesized mean.\")\n"
   ]
  },
  {
   "cell_type": "code",
   "execution_count": 13,
   "metadata": {
    "id": "J0ANt6j3fn6U"
   },
   "outputs": [
    {
     "name": "stdout",
     "output_type": "stream",
     "text": [
      "[NbConvertApp] Converting notebook Week7_Lab.ipynb to webpdf\n",
      "[NbConvertApp] Building PDF\n",
      "[NbConvertApp] PDF successfully created\n",
      "[NbConvertApp] Writing 202407 bytes to Week7_Lab.pdf\n"
     ]
    }
   ],
   "source": [
    "!jupyter nbconvert --to webpdf --allow-chromium-download Week7_Lab.ipynb"
   ]
  },
  {
   "cell_type": "code",
   "execution_count": null,
   "metadata": {},
   "outputs": [],
   "source": []
  }
 ],
 "metadata": {
  "colab": {
   "provenance": []
  },
  "kernelspec": {
   "display_name": "Python 3 (ipykernel)",
   "language": "python",
   "name": "python3"
  },
  "language_info": {
   "codemirror_mode": {
    "name": "ipython",
    "version": 3
   },
   "file_extension": ".py",
   "mimetype": "text/x-python",
   "name": "python",
   "nbconvert_exporter": "python",
   "pygments_lexer": "ipython3",
   "version": "3.11.5"
  }
 },
 "nbformat": 4,
 "nbformat_minor": 4
}
