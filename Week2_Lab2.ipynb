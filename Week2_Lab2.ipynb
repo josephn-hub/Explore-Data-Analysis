{
 "cells": [
  {
   "cell_type": "code",
   "execution_count": 4,
   "metadata": {
    "id": "vXhGS6D-7ivN"
   },
   "outputs": [],
   "source": [
    "# loading the pandas library\n",
    "import pandas as pd"
   ]
  },
  {
   "cell_type": "code",
   "execution_count": 6,
   "metadata": {
    "id": "pHz9C-tE86DO"
   },
   "outputs": [],
   "source": [
    "# loading the dataset\n",
    "season_df = pd.read_csv(\"season.csv\")"
   ]
  },
  {
   "cell_type": "code",
   "execution_count": 8,
   "metadata": {
    "colab": {
     "base_uri": "https://localhost:8080/",
     "height": 206
    },
    "id": "27--jmzP9JrR",
    "outputId": "aa2f0f95-5f0e-48c3-a55d-93f87e8558be"
   },
   "outputs": [
    {
     "data": {
      "text/html": [
       "<div>\n",
       "<style scoped>\n",
       "    .dataframe tbody tr th:only-of-type {\n",
       "        vertical-align: middle;\n",
       "    }\n",
       "\n",
       "    .dataframe tbody tr th {\n",
       "        vertical-align: top;\n",
       "    }\n",
       "\n",
       "    .dataframe thead th {\n",
       "        text-align: right;\n",
       "    }\n",
       "</style>\n",
       "<table border=\"1\" class=\"dataframe\">\n",
       "  <thead>\n",
       "    <tr style=\"text-align: right;\">\n",
       "      <th></th>\n",
       "      <th>day</th>\n",
       "      <th>temp</th>\n",
       "      <th>wind-speed</th>\n",
       "    </tr>\n",
       "  </thead>\n",
       "  <tbody>\n",
       "    <tr>\n",
       "      <th>0</th>\n",
       "      <td>2</td>\n",
       "      <td>45.0</td>\n",
       "      <td>12.0</td>\n",
       "    </tr>\n",
       "    <tr>\n",
       "      <th>1</th>\n",
       "      <td>3</td>\n",
       "      <td>46.0</td>\n",
       "      <td>34.0</td>\n",
       "    </tr>\n",
       "    <tr>\n",
       "      <th>2</th>\n",
       "      <td>4</td>\n",
       "      <td>47.0</td>\n",
       "      <td>45.0</td>\n",
       "    </tr>\n",
       "    <tr>\n",
       "      <th>3</th>\n",
       "      <td>5</td>\n",
       "      <td>NaN</td>\n",
       "      <td>56.0</td>\n",
       "    </tr>\n",
       "    <tr>\n",
       "      <th>4</th>\n",
       "      <td>6</td>\n",
       "      <td>49.0</td>\n",
       "      <td>NaN</td>\n",
       "    </tr>\n",
       "  </tbody>\n",
       "</table>\n",
       "</div>"
      ],
      "text/plain": [
       "   day  temp  wind-speed\n",
       "0    2  45.0        12.0\n",
       "1    3  46.0        34.0\n",
       "2    4  47.0        45.0\n",
       "3    5   NaN        56.0\n",
       "4    6  49.0         NaN"
      ]
     },
     "execution_count": 8,
     "metadata": {},
     "output_type": "execute_result"
    }
   ],
   "source": [
    "season_df.head()"
   ]
  },
  {
   "cell_type": "code",
   "execution_count": 10,
   "metadata": {
    "colab": {
     "base_uri": "https://localhost:8080/"
    },
    "id": "aMzs1wYe9MZ6",
    "outputId": "497243af-4ff9-4af8-c2cd-4b23a7945e35"
   },
   "outputs": [
    {
     "data": {
      "text/plain": [
       "day           0\n",
       "temp          4\n",
       "wind-speed    4\n",
       "dtype: int64"
      ]
     },
     "execution_count": 10,
     "metadata": {},
     "output_type": "execute_result"
    }
   ],
   "source": [
    "# Checking the missing values\n",
    "season_df.isnull().sum()"
   ]
  },
  {
   "cell_type": "markdown",
   "metadata": {
    "id": "xXl2JdQP9kbx"
   },
   "source": [
    "# Techniques to Handle the missing values -"
   ]
  },
  {
   "cell_type": "markdown",
   "metadata": {
    "id": "4gKjOs7d9pXx"
   },
   "source": [
    "**Technique 1 : Filling the missing values - fillna()**"
   ]
  },
  {
   "cell_type": "code",
   "execution_count": 14,
   "metadata": {
    "id": "BWwmGqO49f3N"
   },
   "outputs": [],
   "source": [
    "# Our dataset contains only numerical type of column\n",
    "# so we can fill the missing values by using mean() or median()"
   ]
  },
  {
   "cell_type": "code",
   "execution_count": 16,
   "metadata": {
    "id": "VIGykalE9qPx"
   },
   "outputs": [],
   "source": [
    "# filling the missing values using mean() function\n",
    "\n",
    "Data2 = season_df.fillna(season_df.mean())"
   ]
  },
  {
   "cell_type": "code",
   "execution_count": 18,
   "metadata": {
    "colab": {
     "base_uri": "https://localhost:8080/"
    },
    "id": "VTahYYer92ZF",
    "outputId": "f67673b9-3030-4aab-adc3-841fd59ea2d8"
   },
   "outputs": [
    {
     "data": {
      "text/plain": [
       "day           0\n",
       "temp          0\n",
       "wind-speed    0\n",
       "dtype: int64"
      ]
     },
     "execution_count": 18,
     "metadata": {},
     "output_type": "execute_result"
    }
   ],
   "source": [
    "# Checking the missing value in Data2\n",
    "\n",
    "Data2.isnull().sum()"
   ]
  },
  {
   "cell_type": "code",
   "execution_count": 20,
   "metadata": {
    "id": "u1mte9hn98rC"
   },
   "outputs": [],
   "source": [
    "# Filling the missing values using the median()\n",
    "\n",
    "Data3 = season_df.fillna(season_df.median())"
   ]
  },
  {
   "cell_type": "code",
   "execution_count": 22,
   "metadata": {
    "colab": {
     "base_uri": "https://localhost:8080/"
    },
    "id": "Y2GLuFtC-Cc3",
    "outputId": "9641e707-beb8-48e8-85fc-5d38d2c1160d"
   },
   "outputs": [
    {
     "data": {
      "text/plain": [
       "day           0\n",
       "temp          0\n",
       "wind-speed    0\n",
       "dtype: int64"
      ]
     },
     "execution_count": 22,
     "metadata": {},
     "output_type": "execute_result"
    }
   ],
   "source": [
    "# Checking the missing value in Data3\n",
    "\n",
    "Data3.isnull().sum()"
   ]
  },
  {
   "cell_type": "markdown",
   "metadata": {
    "id": "LPPvsVVg_G1i"
   },
   "source": [
    "**Technique 2 : Filling the missing values - dropna()**"
   ]
  },
  {
   "cell_type": "code",
   "execution_count": 25,
   "metadata": {
    "id": "6kcDNHN2-JKr"
   },
   "outputs": [],
   "source": [
    "# dropna() function will delete the entire row containing the missing values\n",
    "Data4 = season_df.dropna()"
   ]
  },
  {
   "cell_type": "code",
   "execution_count": 27,
   "metadata": {
    "colab": {
     "base_uri": "https://localhost:8080/"
    },
    "id": "oswRFV1T_Ng-",
    "outputId": "5e3f9574-53bf-4eda-ff21-b39dd88a898b"
   },
   "outputs": [
    {
     "data": {
      "text/plain": [
       "day           0\n",
       "temp          0\n",
       "wind-speed    0\n",
       "dtype: int64"
      ]
     },
     "execution_count": 27,
     "metadata": {},
     "output_type": "execute_result"
    }
   ],
   "source": [
    "# Checking the missing value in Data4\n",
    "Data4.isnull().sum()"
   ]
  },
  {
   "cell_type": "code",
   "execution_count": 29,
   "metadata": {
    "id": "2Ymm08Gp_RCu"
   },
   "outputs": [
    {
     "name": "stdout",
     "output_type": "stream",
     "text": [
      "[NbConvertApp] Converting notebook Week2_Lab2.ipynb to webpdf\n",
      "[NbConvertApp] Building PDF\n",
      "[NbConvertApp] PDF successfully created\n",
      "[NbConvertApp] Writing 181260 bytes to Week2_Lab2.pdf\n"
     ]
    }
   ],
   "source": [
    "!jupyter nbconvert --to webpdf --allow-chromium-download Week2_Lab2.ipynb"
   ]
  },
  {
   "cell_type": "code",
   "execution_count": null,
   "metadata": {},
   "outputs": [],
   "source": []
  }
 ],
 "metadata": {
  "colab": {
   "provenance": []
  },
  "kernelspec": {
   "display_name": "Python 3 (ipykernel)",
   "language": "python",
   "name": "python3"
  },
  "language_info": {
   "codemirror_mode": {
    "name": "ipython",
    "version": 3
   },
   "file_extension": ".py",
   "mimetype": "text/x-python",
   "name": "python",
   "nbconvert_exporter": "python",
   "pygments_lexer": "ipython3",
   "version": "3.11.5"
  }
 },
 "nbformat": 4,
 "nbformat_minor": 4
}
