{
 "cells": [
  {
   "cell_type": "markdown",
   "id": "a7a803b5-7d65-45a0-ab86-c805688361dd",
   "metadata": {},
   "source": [
    "### 1. Write a Python code snippet to load a CSV dataset using Pandas and display the first five rows of theDataFrame."
   ]
  },
  {
   "cell_type": "markdown",
   "id": "defb57ad-583b-4afa-9c84-8173bddd1661",
   "metadata": {},
   "source": [
    "* Import the Pandas Library\n",
    "Below are the methods.\n",
    "* print() : This method will be used to print all the rows\n",
    "* head() : This method will be uses to return first 5 rows of the dataframe"
   ]
  },
  {
   "cell_type": "code",
   "execution_count": 216,
   "id": "93ea50f6-c468-4d7e-8569-e1e4522adfec",
   "metadata": {},
   "outputs": [
    {
     "name": "stdout",
     "output_type": "stream",
     "text": [
      "First 5 rows\n",
      "--------------\n",
      "   total_bill   tip     sex smoker  day    time  size\n",
      "0       16.99  1.01  Female     No  Sun  Dinner     2\n",
      "1       10.34  1.66    Male     No  Sun  Dinner     3\n",
      "2       21.01  3.50    Male     No  Sun  Dinner     3\n",
      "3       23.68  3.31    Male     No  Sun  Dinner     2\n",
      "4       24.59  3.61  Female     No  Sun  Dinner     4\n"
     ]
    }
   ],
   "source": [
    "# 1. Import the Pandas library\n",
    "\n",
    "import pandas as pd\n",
    "\n",
    "# 2. Load the data.csv file\n",
    "df = pd.read_csv('tips.csv')\n",
    "\n",
    "# 3. Visualise the data\n",
    "# Display the first few rows of the DataFrame\n",
    "print(\"First 5 rows\")\n",
    "print(\"--------------\")\n",
    "print(df.head())\n"
   ]
  },
  {
   "cell_type": "markdown",
   "id": "eec0fe91-7a5b-4ec4-a01b-179fcba1f295",
   "metadata": {},
   "source": [
    "### 2. Implement a function in Python to detect missing values in a DataFrame and count the total number of\n",
    "### missing values."
   ]
  },
  {
   "cell_type": "code",
   "execution_count": 219,
   "id": "def2355f-738c-47b0-8c99-eda49a2a25c7",
   "metadata": {},
   "outputs": [],
   "source": [
    "import pandas as pd\n",
    "\n",
    "# Step 1: Define the function to detect and count missing values\n",
    "def count_missing_values(df):\n",
    "    \"\"\"\n",
    "    Detects missing values in the DataFrame and counts the total number of missing values.\n",
    "\n",
    "    Args:\n",
    "    df (pd.DataFrame): The input DataFrame.\n",
    "\n",
    "    Returns:\n",
    "    pd.Series: A Series containing the count of missing values for each column.\n",
    "    int: The total number of missing values in the DataFrame.\n",
    "    \"\"\"\n",
    "    # Step 2: Detect missing values (NaN)\n",
    "    missing_per_column = df.isnull().sum()\n",
    "\n",
    "    # Step 3: Count total missing values\n",
    "    total_missing = missing_per_column.sum()\n",
    "\n",
    "    return missing_per_column, total_missing\n"
   ]
  },
  {
   "cell_type": "code",
   "execution_count": 221,
   "id": "5b71c551-6117-4e83-b383-20d09a2043a6",
   "metadata": {},
   "outputs": [
    {
     "name": "stdout",
     "output_type": "stream",
     "text": [
      "  Item_Identifier  Item_Weight Item_Fat_Content  Item_Visibility  \\\n",
      "0           FDA15         9.30          Low Fat         0.016047   \n",
      "1           DRC01         5.92          Regular         0.019278   \n",
      "2           FDN15        17.50          Low Fat         0.016760   \n",
      "3           FDX07        19.20          Regular         0.000000   \n",
      "4           NCD19         8.93          Low Fat         0.000000   \n",
      "\n",
      "               Item_Type  Item_MRP Outlet_Identifier  \\\n",
      "0                  Dairy  249.8092            OUT049   \n",
      "1            Soft Drinks   48.2692            OUT018   \n",
      "2                   Meat  141.6180            OUT049   \n",
      "3  Fruits and Vegetables  182.0950            OUT010   \n",
      "4              Household   53.8614            OUT013   \n",
      "\n",
      "   Outlet_Establishment_Year Outlet_Size Outlet_Location_Type  \\\n",
      "0                       1999      Medium               Tier 1   \n",
      "1                       2009      Medium               Tier 3   \n",
      "2                       1999      Medium               Tier 1   \n",
      "3                       1998         NaN               Tier 3   \n",
      "4                       1987        High               Tier 3   \n",
      "\n",
      "         Outlet_Type  Item_Outlet_Sales  \n",
      "0  Supermarket Type1          3735.1380  \n",
      "1  Supermarket Type2           443.4228  \n",
      "2  Supermarket Type1          2097.2700  \n",
      "3      Grocery Store           732.3800  \n",
      "4  Supermarket Type1           994.7052  \n"
     ]
    }
   ],
   "source": [
    "# Loading a csv file and checking missing values per columns and total missing values in Dataframe\n",
    "heart_df = pd.read_csv(\"bigmart.csv\")\n",
    "\n",
    "print(heart_df.head())\n"
   ]
  },
  {
   "cell_type": "code",
   "execution_count": 223,
   "id": "acb80af5-46a7-45f2-804c-63eec3134326",
   "metadata": {},
   "outputs": [
    {
     "name": "stdout",
     "output_type": "stream",
     "text": [
      "Missing values per column:\n",
      "Item_Identifier                 0\n",
      "Item_Weight                  1463\n",
      "Item_Fat_Content                0\n",
      "Item_Visibility                 0\n",
      "Item_Type                       0\n",
      "Item_MRP                        0\n",
      "Outlet_Identifier               0\n",
      "Outlet_Establishment_Year       0\n",
      "Outlet_Size                  2410\n",
      "Outlet_Location_Type            0\n",
      "Outlet_Type                     0\n",
      "Item_Outlet_Sales               0\n",
      "dtype: int64\n",
      "\n",
      "Total number of missing values: 3873\n"
     ]
    }
   ],
   "source": [
    "\n",
    "# Step 4: Call the function and display the result\n",
    "missing_per_column, total_missing = count_missing_values(heart_df)\n",
    "\n",
    "print(\"Missing values per column:\")\n",
    "print(missing_per_column)\n",
    "print(\"\\nTotal number of missing values:\", total_missing)"
   ]
  },
  {
   "cell_type": "code",
   "execution_count": 225,
   "id": "6e598293-0a55-4bbb-b575-a0187bb5a364",
   "metadata": {},
   "outputs": [
    {
     "name": "stdout",
     "output_type": "stream",
     "text": [
      "    name   age Studied\n",
      "0   John  20.0   BTech\n",
      "1  Alice  21.0     Msc\n",
      "2    Bob   NaN     Phd\n",
      "3  Carol  23.0    None\n"
     ]
    }
   ],
   "source": [
    "# Loading a Dictionary and checking missing values per columns and total missing values in Dataframe\n",
    "\n",
    "data = {\n",
    "    'name': ['John', 'Alice', 'Bob', 'Carol'],\n",
    "    'age': [20, 21, None, 23],\n",
    "    'Studied': ['BTech', 'Msc', 'Phd', None]\n",
    "}\n",
    "\n",
    "df = pd.DataFrame(data)\n",
    "\n",
    "print(df.head())"
   ]
  },
  {
   "cell_type": "code",
   "execution_count": 227,
   "id": "08d920e8-0603-4310-999e-551242bf32ee",
   "metadata": {},
   "outputs": [
    {
     "name": "stdout",
     "output_type": "stream",
     "text": [
      "Missing values per column:\n",
      "name       0\n",
      "age        1\n",
      "Studied    1\n",
      "dtype: int64\n",
      "\n",
      "Total number of missing values: 2\n"
     ]
    }
   ],
   "source": [
    "# Call the function and display the result\n",
    "missing_per_column, total_missing = count_missing_values(df)\n",
    "\n",
    "print(\"Missing values per column:\")\n",
    "print(missing_per_column)\n",
    "print(\"\\nTotal number of missing values:\", total_missing)"
   ]
  },
  {
   "cell_type": "markdown",
   "id": "df45ac44-bdee-404e-9b63-2e2f521843fa",
   "metadata": {},
   "source": [
    "### 3.Provide Python code to perform type conversion of a column in a DataFrame from categorical to numericaldata type."
   ]
  },
  {
   "cell_type": "markdown",
   "id": "6a9f026d-2a8a-4c10-b302-00e6750c2465",
   "metadata": {},
   "source": [
    "#### To perform type conversion from categorical to numerical data in a DataFrame, you can use techniques such \n",
    "1. label encoding \n",
    "2. one-hot encoding"
   ]
  },
  {
   "cell_type": "code",
   "execution_count": 231,
   "id": "eb1b37bf-824c-416e-9769-df34a011a11e",
   "metadata": {},
   "outputs": [],
   "source": [
    "import pandas as pd\n",
    "\n",
    "# Sample DataFrame with a categorical column\n",
    "data = {'student': ['Joseph', 'Sekhar', 'Nitya', 'Priyanka'],\n",
    "        'grade': ['A', 'B', 'A', 'C']}\n",
    "df = pd.DataFrame(data)\n",
    "\n"
   ]
  },
  {
   "cell_type": "code",
   "execution_count": 233,
   "id": "491aaacd-73f8-4cd5-9762-e5cf40f40245",
   "metadata": {},
   "outputs": [
    {
     "name": "stdout",
     "output_type": "stream",
     "text": [
      "<class 'pandas.core.frame.DataFrame'>\n",
      "RangeIndex: 4 entries, 0 to 3\n",
      "Data columns (total 2 columns):\n",
      " #   Column   Non-Null Count  Dtype \n",
      "---  ------   --------------  ----- \n",
      " 0   student  4 non-null      object\n",
      " 1   grade    4 non-null      object\n",
      "dtypes: object(2)\n",
      "memory usage: 196.0+ bytes\n"
     ]
    }
   ],
   "source": [
    "# printing info of the dataframe by using info() method\n",
    "\n",
    "df.info()"
   ]
  },
  {
   "cell_type": "markdown",
   "id": "86b3ea2b-bd47-4b3c-874d-b2ea73ef2ff4",
   "metadata": {},
   "source": [
    "##### Label Encoding: The astype('category').cat.codes converts the categorical column into numerical codes. \n",
    "##### Here, A is encoded as 0, B as 1, and C as 2."
   ]
  },
  {
   "cell_type": "code",
   "execution_count": 236,
   "id": "c2d4a76d-9b1f-4ef8-ac4d-ca888c226696",
   "metadata": {},
   "outputs": [
    {
     "name": "stdout",
     "output_type": "stream",
     "text": [
      "    student grade  grade_encoded\n",
      "0    Joseph     A              0\n",
      "1    Sekhar     B              1\n",
      "2     Nitya     A              0\n",
      "3  Priyanka     C              2\n"
     ]
    }
   ],
   "source": [
    "# Step 1: Convert the 'grade' column from categorical to numerical using label encoding\n",
    "\n",
    "# converting type of columns to 'category'\n",
    "df['grade'] = df['grade'].astype('category')\n",
    "# Assigning numerical values and storing in another column using pandas\n",
    "\n",
    "df['grade_encoded'] = df['grade'].cat.codes\n",
    "\n",
    "# Display the DataFrame\n",
    "print(df)"
   ]
  },
  {
   "cell_type": "markdown",
   "id": "a9967662-4cfc-488e-83ce-84badca1d10a",
   "metadata": {},
   "source": [
    "##### pandas.get_dummies(data, prefix=None, prefix_sep='_', dummy_na=False, columns=None, sparse=False, drop_first=False, dtype=None)[source]\n",
    "##### Convert categorical variable into dummy/indicator variables.\n",
    "\n",
    "##### Each variable is converted in as many 0/1 variables as there are different values. \n",
    "##### Columns in the output are each named after a value; if the input is a DataFrame, the name of the original variable is prepended to the value."
   ]
  },
  {
   "cell_type": "code",
   "execution_count": 239,
   "id": "746e1fea-5bfa-4891-86e2-68ed40cdb68a",
   "metadata": {},
   "outputs": [
    {
     "name": "stdout",
     "output_type": "stream",
     "text": [
      "    student  grade_encoded  grade_A  grade_B  grade_C\n",
      "0    Joseph              0        1        0        0\n",
      "1    Sekhar              1        0        1        0\n",
      "2     Nitya              0        1        0        0\n",
      "3  Priyanka              2        0        0        1\n"
     ]
    }
   ],
   "source": [
    "# Step 1: Using Hot encoding get_dummies method to convert the 'grade' column from categorical to numerical using one-hot encoding\n",
    "df_one_hot = pd.get_dummies(df, columns=['grade'], dtype=int)\n",
    "# Display the DataFrame\n",
    "print(df_one_hot)"
   ]
  },
  {
   "cell_type": "markdown",
   "id": "f91b3bb3-f2f3-4716-bf73-48a97b8bc3cf",
   "metadata": {},
   "source": [
    "### 4. Write Python code to apply MinMaxScaler from sklearn to scale a numerical feature in a DataFrame."
   ]
  },
  {
   "cell_type": "code",
   "execution_count": 242,
   "id": "0a68534f-ae93-4212-bd26-85045f18844f",
   "metadata": {},
   "outputs": [],
   "source": [
    "import pandas as pd\n",
    "\n",
    "# Step 1: Create a sample DataFrame by import diabetes dataset\n",
    "\n",
    "diab_df= pd.read_csv(\"diabetes.csv\")\n",
    "\n"
   ]
  },
  {
   "cell_type": "code",
   "execution_count": 244,
   "id": "9a752807-651f-47f7-9321-0e609cff6d2a",
   "metadata": {},
   "outputs": [
    {
     "name": "stdout",
     "output_type": "stream",
     "text": [
      "<class 'pandas.core.frame.DataFrame'>\n",
      "RangeIndex: 768 entries, 0 to 767\n",
      "Data columns (total 9 columns):\n",
      " #   Column                    Non-Null Count  Dtype  \n",
      "---  ------                    --------------  -----  \n",
      " 0   Pregnancies               768 non-null    int64  \n",
      " 1   Glucose                   768 non-null    int64  \n",
      " 2   BloodPressure             768 non-null    int64  \n",
      " 3   SkinThickness             768 non-null    int64  \n",
      " 4   Insulin                   768 non-null    int64  \n",
      " 5   BMI                       768 non-null    float64\n",
      " 6   DiabetesPedigreeFunction  768 non-null    float64\n",
      " 7   Age                       768 non-null    int64  \n",
      " 8   Outcome                   768 non-null    int64  \n",
      "dtypes: float64(2), int64(7)\n",
      "memory usage: 54.1 KB\n"
     ]
    }
   ],
   "source": [
    "# print info\n",
    "diab_df.info()"
   ]
  },
  {
   "cell_type": "code",
   "execution_count": 246,
   "id": "7b22ff30-708e-4f1c-9595-6885c677c9a1",
   "metadata": {},
   "outputs": [],
   "source": [
    "# import MinMaxScaler from scikit learn preprocessing\n",
    "from sklearn.preprocessing import MinMaxScaler\n",
    "\n",
    "# Using numerical features Insulin and Glucose for calculating the MinMax scaler\n",
    "data_to_scale = diab_df[['Insulin', 'Glucose']]\n",
    "# Step 2: Initialize the MinMaxScaler (default range is 0 to 1)\n",
    "scaler = MinMaxScaler()\n",
    "\n",
    "# Step 3: Fit the scaler on the 'age' column and transform the data\n",
    "data_min_max_scaled = scaler.fit_transform(data_to_scale)\n",
    "\n",
    "# Display the DataFrame with the scaled 'age' feature\n",
    "df_min_max_scaled = pd.DataFrame(data_min_max_scaled, columns =['Insulin_min_max_scaled', 'Glucose_min_max_scaled'])"
   ]
  },
  {
   "cell_type": "code",
   "execution_count": 248,
   "id": "5e2c0d28-6b61-4377-a16a-2c164c31a8c2",
   "metadata": {},
   "outputs": [
    {
     "name": "stdout",
     "output_type": "stream",
     "text": [
      "Dataframe with MinMax scaled\n",
      "__________________________\n"
     ]
    },
    {
     "data": {
      "text/html": [
       "<div>\n",
       "<style scoped>\n",
       "    .dataframe tbody tr th:only-of-type {\n",
       "        vertical-align: middle;\n",
       "    }\n",
       "\n",
       "    .dataframe tbody tr th {\n",
       "        vertical-align: top;\n",
       "    }\n",
       "\n",
       "    .dataframe thead th {\n",
       "        text-align: right;\n",
       "    }\n",
       "</style>\n",
       "<table border=\"1\" class=\"dataframe\">\n",
       "  <thead>\n",
       "    <tr style=\"text-align: right;\">\n",
       "      <th></th>\n",
       "      <th>Insulin_min_max_scaled</th>\n",
       "      <th>Glucose_min_max_scaled</th>\n",
       "    </tr>\n",
       "  </thead>\n",
       "  <tbody>\n",
       "    <tr>\n",
       "      <th>0</th>\n",
       "      <td>0.000000</td>\n",
       "      <td>0.743719</td>\n",
       "    </tr>\n",
       "    <tr>\n",
       "      <th>1</th>\n",
       "      <td>0.000000</td>\n",
       "      <td>0.427136</td>\n",
       "    </tr>\n",
       "    <tr>\n",
       "      <th>2</th>\n",
       "      <td>0.000000</td>\n",
       "      <td>0.919598</td>\n",
       "    </tr>\n",
       "    <tr>\n",
       "      <th>3</th>\n",
       "      <td>0.111111</td>\n",
       "      <td>0.447236</td>\n",
       "    </tr>\n",
       "    <tr>\n",
       "      <th>4</th>\n",
       "      <td>0.198582</td>\n",
       "      <td>0.688442</td>\n",
       "    </tr>\n",
       "  </tbody>\n",
       "</table>\n",
       "</div>"
      ],
      "text/plain": [
       "   Insulin_min_max_scaled  Glucose_min_max_scaled\n",
       "0                0.000000                0.743719\n",
       "1                0.000000                0.427136\n",
       "2                0.000000                0.919598\n",
       "3                0.111111                0.447236\n",
       "4                0.198582                0.688442"
      ]
     },
     "execution_count": 248,
     "metadata": {},
     "output_type": "execute_result"
    }
   ],
   "source": [
    "# Printing the dataframe\n",
    "print(\"Dataframe with MinMax scaled\")\n",
    "print(\"__________________________\")\n",
    "df_min_max_scaled.head()"
   ]
  },
  {
   "cell_type": "code",
   "execution_count": 250,
   "id": "c254d9a7-7fd3-4c9d-93e2-4960eeda2dcd",
   "metadata": {},
   "outputs": [
    {
     "name": "stdout",
     "output_type": "stream",
     "text": [
      "Dataframe with MinMax scaled\n",
      "__________________________ \n",
      "\n",
      "  student  age  age_scaled\n",
      "0    John   20    0.000000\n",
      "1   Alice   21    0.333333\n",
      "2     Bob   22    0.666667\n",
      "3   Carol   23    1.000000\n"
     ]
    }
   ],
   "source": [
    "#  Create a sample DataFrame with a numerical feature\n",
    "data = {'student': ['John', 'Alice', 'Bob', 'Carol'],\n",
    "        'age': [20, 21, 22, 23]}\n",
    "df = pd.DataFrame(data)\n",
    "\n",
    "\n",
    "# Fit the scaler on the 'age' column and transform the data\n",
    "df['age_scaled'] = scaler.fit_transform(df[['age']])\n",
    "\n",
    "# Display the DataFrame with the scaled 'age' feature\n",
    "print(\"Dataframe with MinMax scaled\")\n",
    "print(\"__________________________ \\n\")\n",
    "print(df)"
   ]
  },
  {
   "cell_type": "markdown",
   "id": "49f5839a-62f2-4242-81ec-fdbedb61f553",
   "metadata": {},
   "source": [
    "#### 5. Create a Python function to merge two DataFrames based on a common key column using Pandas' mergefunction"
   ]
  },
  {
   "cell_type": "code",
   "execution_count": 253,
   "id": "0ead24cd-7779-4250-b757-1d7cb01e02ac",
   "metadata": {},
   "outputs": [
    {
     "name": "stdout",
     "output_type": "stream",
     "text": [
      "Inner join merged df\n",
      "__________________\n",
      "\n",
      "   student_id  course_id_x                 branch_x  course_id_y  \\\n",
      "0         101          301                      CSE          301   \n",
      "1         102          302              DataScience          302   \n",
      "2         103          301  Artificial Intelligence          301   \n",
      "3         105          304           DataStructures          304   \n",
      "\n",
      "          branch_y  \n",
      "0              CSE  \n",
      "1      DataScience  \n",
      "2       Blockchain  \n",
      "3  MachineLearning  \n"
     ]
    }
   ],
   "source": [
    "# Example dataframes with Enrollments and New grades data\n",
    "df1 = pd.DataFrame({\n",
    "    'student_id':[101,102,103,105],\n",
    "    'course_id':[301,302,301,304],\n",
    "    'branch':['CSE', 'DataScience', 'Artificial Intelligence','DataStructures'],\n",
    "})\n",
    "\n",
    "df2 = pd.DataFrame({\n",
    "    'student_id':[101,102,103,105,106],\n",
    "    'course_id':[301,302, 301,304,300],\n",
    "     'branch':['CSE', 'DataScience', 'Blockchain', 'MachineLearning','DataStructures'],\n",
    "} )\n",
    "\n",
    "\n",
    "# Merge the datasets on the 'student_id' column with inner join\n",
    "merged_df = pd.merge(df1, df2, on='student_id', how='inner')\n",
    "\n",
    "\n",
    "# printing the Dataframe\n",
    "\n",
    "print(\"Inner join merged df\")\n",
    "print(\"__________________\\n\")\n",
    "print(merged_df)"
   ]
  },
  {
   "cell_type": "markdown",
   "id": "427983b0-a441-4099-944a-ececd64f049c",
   "metadata": {},
   "source": [
    "#### 6. Write Python code to generate a histogram using Matplotlib for a given numerical column in a DataFrame\n",
    "#### and interpret the results."
   ]
  },
  {
   "cell_type": "code",
   "execution_count": 256,
   "id": "ca88504b-f3ae-4c5a-bcf1-b88292fc2de9",
   "metadata": {},
   "outputs": [
    {
     "data": {
      "text/html": [
       "<div>\n",
       "<style scoped>\n",
       "    .dataframe tbody tr th:only-of-type {\n",
       "        vertical-align: middle;\n",
       "    }\n",
       "\n",
       "    .dataframe tbody tr th {\n",
       "        vertical-align: top;\n",
       "    }\n",
       "\n",
       "    .dataframe thead th {\n",
       "        text-align: right;\n",
       "    }\n",
       "</style>\n",
       "<table border=\"1\" class=\"dataframe\">\n",
       "  <thead>\n",
       "    <tr style=\"text-align: right;\">\n",
       "      <th></th>\n",
       "      <th>Pregnancies</th>\n",
       "      <th>Glucose</th>\n",
       "      <th>BloodPressure</th>\n",
       "      <th>SkinThickness</th>\n",
       "      <th>Insulin</th>\n",
       "      <th>BMI</th>\n",
       "      <th>DiabetesPedigreeFunction</th>\n",
       "      <th>Age</th>\n",
       "      <th>Outcome</th>\n",
       "    </tr>\n",
       "  </thead>\n",
       "  <tbody>\n",
       "    <tr>\n",
       "      <th>0</th>\n",
       "      <td>6</td>\n",
       "      <td>148</td>\n",
       "      <td>72</td>\n",
       "      <td>35</td>\n",
       "      <td>0</td>\n",
       "      <td>33.6</td>\n",
       "      <td>0.627</td>\n",
       "      <td>50</td>\n",
       "      <td>1</td>\n",
       "    </tr>\n",
       "    <tr>\n",
       "      <th>1</th>\n",
       "      <td>1</td>\n",
       "      <td>85</td>\n",
       "      <td>66</td>\n",
       "      <td>29</td>\n",
       "      <td>0</td>\n",
       "      <td>26.6</td>\n",
       "      <td>0.351</td>\n",
       "      <td>31</td>\n",
       "      <td>0</td>\n",
       "    </tr>\n",
       "    <tr>\n",
       "      <th>2</th>\n",
       "      <td>8</td>\n",
       "      <td>183</td>\n",
       "      <td>64</td>\n",
       "      <td>0</td>\n",
       "      <td>0</td>\n",
       "      <td>23.3</td>\n",
       "      <td>0.672</td>\n",
       "      <td>32</td>\n",
       "      <td>1</td>\n",
       "    </tr>\n",
       "    <tr>\n",
       "      <th>3</th>\n",
       "      <td>1</td>\n",
       "      <td>89</td>\n",
       "      <td>66</td>\n",
       "      <td>23</td>\n",
       "      <td>94</td>\n",
       "      <td>28.1</td>\n",
       "      <td>0.167</td>\n",
       "      <td>21</td>\n",
       "      <td>0</td>\n",
       "    </tr>\n",
       "    <tr>\n",
       "      <th>4</th>\n",
       "      <td>0</td>\n",
       "      <td>137</td>\n",
       "      <td>40</td>\n",
       "      <td>35</td>\n",
       "      <td>168</td>\n",
       "      <td>43.1</td>\n",
       "      <td>2.288</td>\n",
       "      <td>33</td>\n",
       "      <td>1</td>\n",
       "    </tr>\n",
       "  </tbody>\n",
       "</table>\n",
       "</div>"
      ],
      "text/plain": [
       "   Pregnancies  Glucose  BloodPressure  SkinThickness  Insulin   BMI  \\\n",
       "0            6      148             72             35        0  33.6   \n",
       "1            1       85             66             29        0  26.6   \n",
       "2            8      183             64              0        0  23.3   \n",
       "3            1       89             66             23       94  28.1   \n",
       "4            0      137             40             35      168  43.1   \n",
       "\n",
       "   DiabetesPedigreeFunction  Age  Outcome  \n",
       "0                     0.627   50        1  \n",
       "1                     0.351   31        0  \n",
       "2                     0.672   32        1  \n",
       "3                     0.167   21        0  \n",
       "4                     2.288   33        1  "
      ]
     },
     "execution_count": 256,
     "metadata": {},
     "output_type": "execute_result"
    }
   ],
   "source": [
    "import pandas as pd\n",
    "import matplotlib.pyplot as plt\n",
    "\n",
    "# Step 1: Create a sample DataFrame with a numerical column\n",
    "#data = {'student': ['John', 'Alice', 'Bob', 'Carol', 'David', 'Eva', 'Frank', 'Grace'],\n",
    " #       'age': [20, 21, 22, 23, 21, 24, 22, 25]}\n",
    "df = pd.read_csv(\"diabetes.csv\")\n",
    "\n",
    "\n",
    "df.head()"
   ]
  },
  {
   "cell_type": "code",
   "execution_count": 258,
   "id": "958c2ca7-bbbb-44e9-b489-2bd7d2186fc7",
   "metadata": {},
   "outputs": [
    {
     "name": "stdout",
     "output_type": "stream",
     "text": [
      "<class 'pandas.core.frame.DataFrame'>\n",
      "RangeIndex: 768 entries, 0 to 767\n",
      "Data columns (total 9 columns):\n",
      " #   Column                    Non-Null Count  Dtype  \n",
      "---  ------                    --------------  -----  \n",
      " 0   Pregnancies               768 non-null    int64  \n",
      " 1   Glucose                   768 non-null    int64  \n",
      " 2   BloodPressure             768 non-null    int64  \n",
      " 3   SkinThickness             768 non-null    int64  \n",
      " 4   Insulin                   768 non-null    int64  \n",
      " 5   BMI                       768 non-null    float64\n",
      " 6   DiabetesPedigreeFunction  768 non-null    float64\n",
      " 7   Age                       768 non-null    int64  \n",
      " 8   Outcome                   768 non-null    int64  \n",
      "dtypes: float64(2), int64(7)\n",
      "memory usage: 54.1 KB\n"
     ]
    }
   ],
   "source": [
    "# Showing the info to select relavant numerical column\n",
    "df.info()"
   ]
  },
  {
   "cell_type": "code",
   "execution_count": 260,
   "id": "0bac2d08-ac51-4f9f-b442-727152fdf299",
   "metadata": {},
   "outputs": [
    {
     "data": {
      "image/png": "[encoded data removed]",
      "text/plain": [
       "<Figure size 1000x500 with 1 Axes>"
      ]
     },
     "metadata": {},
     "output_type": "display_data"
    }
   ],
   "source": [
    "# Plot the histogram for the 'Age' column\n",
    "plt.figure(figsize=(10, 5))  # Set the figure size\n",
    "plt.hist(df['Age'], bins=6, color='skyblue', edgecolor='black')\n",
    "\n",
    "# Add labels and title\n",
    "plt.title('Distribution of Ages', fontsize=16)\n",
    "plt.xlabel('Age', fontsize=14)\n",
    "plt.ylabel('Frequency', fontsize=14)\n",
    "\n",
    "# Step 4: Display the plot\n",
    "plt.show()"
   ]
  },
  {
   "cell_type": "markdown",
   "id": "faa4b24a-9c41-4996-8b4e-1800a30e3080",
   "metadata": {},
   "source": [
    "Explanation: \n",
    "* DataFrame:\n",
    "  We have a DataFrame df with a numerical column Age. \n",
    "* Histogram: \n",
    " The plt.hist() function creates a histogram for the Age column. bins=6 specifies that the data should be divided into 6 bins (groups). \n",
    "color='skyblue' and edgecolor='black' are aesthetic settings to change the color of the bars and the edges.\n",
    "* Labels: \n",
    " We add a title, and labels for the x-axis (Age) and y-axis (Frequency).\n",
    " plt.show(): This displays the histogram.\n",
    " Output: The histogram would display bars representing the distribution of ages. Each bar's height corresponds to the number of patients    within the respective age group (or bin).\n",
    "\n",
    "* Interpretation of the Results:\n",
    " The x-axis represents the ages, grouped into bins. Each bin corresponds to a range of ages (for example, ages 21–31, 31–41, etc.).\n",
    " The y-axis represents the frequency (i.e., how many patients fall within each bin). \n",
    " If the histogram shows taller bars at certain ages, it indicates that more patients belong to that age group. \n",
    "* For example:\n",
    "\n",
    "If the highest bar is for the age group 21-31, it indicates that most patients in the dataset are 21 or 31 years old. \n",
    "If the bars are evenly distributed, it shows that the ages are relatively spread out across the dataset."
   ]
  },
  {
   "cell_type": "code",
   "execution_count": 264,
   "id": "90bd95a8-002a-4c15-9aa3-81bb3b49827f",
   "metadata": {},
   "outputs": [
    {
     "name": "stdout",
     "output_type": "stream",
     "text": [
      "[NbConvertApp] Converting notebook Final_Exam.ipynb to webpdf\n",
      "[NbConvertApp] Building PDF\n",
      "[NbConvertApp] PDF successfully created\n",
      "[NbConvertApp] Writing 547163 bytes to Final_Exam.pdf\n"
     ]
    }
   ],
   "source": [
    "!jupyter nbconvert --to webpdf --allow-chromium-download Final_Exam.ipynb"
   ]
  },
  {
   "cell_type": "code",
   "execution_count": null,
   "id": "c15db71b-1f5c-43f9-a419-0a248ecbc015",
   "metadata": {},
   "outputs": [],
   "source": []
  }
 ],
 "metadata": {
  "kernelspec": {
   "display_name": "Python 3 (ipykernel)",
   "language": "python",
   "name": "python3"
  },
  "language_info": {
   "codemirror_mode": {
    "name": "ipython",
    "version": 3
   },
   "file_extension": ".py",
   "mimetype": "text/x-python",
   "name": "python",
   "nbconvert_exporter": "python",
   "pygments_lexer": "ipython3",
   "version": "3.11.5"
  }
 },
 "nbformat": 4,
 "nbformat_minor": 5
}
