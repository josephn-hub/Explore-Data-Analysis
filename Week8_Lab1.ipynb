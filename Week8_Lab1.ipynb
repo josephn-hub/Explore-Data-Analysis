{
 "cells": [
  {
   "cell_type": "markdown",
   "metadata": {
    "id": "7PrB8H1M6Qty"
   },
   "source": [
    "## Z-Score technique to handle the outliers"
   ]
  },
  {
   "cell_type": "markdown",
   "metadata": {
    "id": "jJmhGraYZZG2"
   },
   "source": [
    "**Example1**"
   ]
  },
  {
   "cell_type": "markdown",
   "metadata": {
    "id": "WuJJPWvc6enj"
   },
   "source": [
    "Here's a Python code using the numpy and scipy libraries to demonstrate the Z-score method for handling outliers:"
   ]
  },
  {
   "cell_type": "code",
   "execution_count": 33,
   "metadata": {
    "colab": {
     "base_uri": "https://localhost:8080/"
    },
    "id": "huiXXxH46AIq",
    "outputId": "ae665ba6-4252-4190-cfee-9bfc453031d9"
   },
   "outputs": [
    {
     "name": "stdout",
     "output_type": "stream",
     "text": [
      "Outliers: [52]\n"
     ]
    }
   ],
   "source": [
    "import numpy as np\n",
    "from scipy import stats\n",
    "\n",
    "def detect_outliers_zscore(data, threshold=3):\n",
    "    \"\"\"\n",
    "    Detects outliers using Z-score method.\n",
    "\n",
    "    :param data: List or array-like data points.\n",
    "    :param threshold: Threshold value for Z-score. Default is 3.\n",
    "    :return: List of outliers.\n",
    "    \"\"\"\n",
    "    z_scores = np.abs(stats.zscore(data))\n",
    "    outliers = np.where(z_scores > threshold)\n",
    "    return np.array(data)[outliers]\n",
    "\n",
    "# data points\n",
    "data = [10, 12, 12, 13, 12, 11, 11, 52, 13, 12, 11]\n",
    "\n",
    "# Detecting outliers\n",
    "outliers = detect_outliers_zscore(data)\n",
    "\n",
    "print(\"Outliers:\", outliers)\n"
   ]
  },
  {
   "cell_type": "markdown",
   "metadata": {
    "id": "Xu8G6piH6o77"
   },
   "source": [
    "In the above code:\n",
    "\n",
    "We first calculate the Z-scores for the data.\n",
    "We then identify outliers as those data points where the absolute Z-score is greater than a threshold (default is 3, but you can modify this based on your needs).\n",
    "We return the outliers."
   ]
  },
  {
   "cell_type": "markdown",
   "metadata": {
    "id": "SmMpdLV7ZU2X"
   },
   "source": [
    "**Example 2**"
   ]
  },
  {
   "cell_type": "code",
   "execution_count": 37,
   "metadata": {
    "colab": {
     "base_uri": "https://localhost:8080/"
    },
    "executionInfo": {
     "elapsed": 3699,
     "status": "ok",
     "timestamp": 1692290964496,
     "user": {
      "displayName": "Academics Careerera",
      "userId": "09489366406537911155"
     },
     "user_tz": -330
    },
    "id": "xrFD3o5jZYV1",
    "outputId": "9efc4abf-d570-4993-8345-181ae81477a5"
   },
   "outputs": [
    {
     "name": "stdout",
     "output_type": "stream",
     "text": [
      "Original Dataset:\n",
      "     sepal_length  sepal_width  petal_length  petal_width    species  \\\n",
      "0             5.1          3.5           1.4          0.2     setosa   \n",
      "1             4.9          3.0           1.4          0.2     setosa   \n",
      "2             4.7          3.2           1.3          0.2     setosa   \n",
      "3             4.6          3.1           1.5          0.2     setosa   \n",
      "4             5.0          3.6           1.4          0.2     setosa   \n",
      "..            ...          ...           ...          ...        ...   \n",
      "145           6.7          3.0           5.2          2.3  virginica   \n",
      "146           6.3          2.5           5.0          1.9  virginica   \n",
      "147           6.5          3.0           5.2          2.0  virginica   \n",
      "148           6.2          3.4           5.4          2.3  virginica   \n",
      "149           5.9          3.0           5.1          1.8  virginica   \n",
      "\n",
      "     Z_score_sepal_length  \n",
      "0               -0.900681  \n",
      "1               -1.143017  \n",
      "2               -1.385353  \n",
      "3               -1.506521  \n",
      "4               -1.021849  \n",
      "..                    ...  \n",
      "145              1.038005  \n",
      "146              0.553333  \n",
      "147              0.795669  \n",
      "148              0.432165  \n",
      "149              0.068662  \n",
      "\n",
      "[150 rows x 6 columns]\n",
      "\n",
      "Dataset without Outliers based on sepal_length:\n",
      "     sepal_length  sepal_width  petal_length  petal_width    species  \\\n",
      "0             5.1          3.5           1.4          0.2     setosa   \n",
      "1             4.9          3.0           1.4          0.2     setosa   \n",
      "2             4.7          3.2           1.3          0.2     setosa   \n",
      "3             4.6          3.1           1.5          0.2     setosa   \n",
      "4             5.0          3.6           1.4          0.2     setosa   \n",
      "..            ...          ...           ...          ...        ...   \n",
      "145           6.7          3.0           5.2          2.3  virginica   \n",
      "146           6.3          2.5           5.0          1.9  virginica   \n",
      "147           6.5          3.0           5.2          2.0  virginica   \n",
      "148           6.2          3.4           5.4          2.3  virginica   \n",
      "149           5.9          3.0           5.1          1.8  virginica   \n",
      "\n",
      "     Z_score_sepal_length  \n",
      "0               -0.900681  \n",
      "1               -1.143017  \n",
      "2               -1.385353  \n",
      "3               -1.506521  \n",
      "4               -1.021849  \n",
      "..                    ...  \n",
      "145              1.038005  \n",
      "146              0.553333  \n",
      "147              0.795669  \n",
      "148              0.432165  \n",
      "149              0.068662  \n",
      "\n",
      "[150 rows x 6 columns]\n",
      "\n",
      "Cleaned Dataset:\n",
      "     sepal_length  sepal_width  petal_length  petal_width    species\n",
      "0             5.1          3.5           1.4          0.2     setosa\n",
      "1             4.9          3.0           1.4          0.2     setosa\n",
      "2             4.7          3.2           1.3          0.2     setosa\n",
      "3             4.6          3.1           1.5          0.2     setosa\n",
      "4             5.0          3.6           1.4          0.2     setosa\n",
      "..            ...          ...           ...          ...        ...\n",
      "145           6.7          3.0           5.2          2.3  virginica\n",
      "146           6.3          2.5           5.0          1.9  virginica\n",
      "147           6.5          3.0           5.2          2.0  virginica\n",
      "148           6.2          3.4           5.4          2.3  virginica\n",
      "149           5.9          3.0           5.1          1.8  virginica\n",
      "\n",
      "[150 rows x 5 columns]\n"
     ]
    }
   ],
   "source": [
    "import numpy as np\n",
    "import pandas as pd\n",
    "import seaborn as sns\n",
    "\n",
    "# Load the iris dataset from seaborn\n",
    "df = sns.load_dataset('iris')\n",
    "\n",
    "# Calculate the Z-scores for the 'sepal_length' column\n",
    "df['Z_score_sepal_length'] = (df['sepal_length'] - df['sepal_length'].mean()) / df['sepal_length'].std(ddof=0)\n",
    "\n",
    "# Filter rows in dataframe to exclude data points that are outliers (where |Z-score| > 3 for 'sepal_length')\n",
    "df_no_outliers = df[np.abs(df['Z_score_sepal_length']) <= 3]\n",
    "\n",
    "print(\"Original Dataset:\")\n",
    "print(df)\n",
    "\n",
    "print(\"\\nDataset without Outliers based on sepal_length:\")\n",
    "print(df_no_outliers)\n",
    "\n",
    "# You can drop the 'Z_score_sepal_length' column if you don't need it\n",
    "df_no_outliers = df_no_outliers.drop(columns=['Z_score_sepal_length'])\n",
    "print(\"\\nCleaned Dataset:\")\n",
    "print(df_no_outliers)\n"
   ]
  },
  {
   "cell_type": "markdown",
   "metadata": {
    "id": "1Ksf138vaHv6"
   },
   "source": [
    "In this example, the iris dataset probably doesn't have extreme outliers given its nature, so the filtered dataset might look very similar to the original one. However, this procedure is a generalized approach that can be applied to any dataset."
   ]
  },
  {
   "cell_type": "code",
   "execution_count": 40,
   "metadata": {
    "id": "nu8Yhp8KZoHN"
   },
   "outputs": [],
   "source": [
    "# import sklearn module\n",
    "import  sklearn\n",
    "from sklearn import datasets\n",
    "\n",
    "# Load california dataset\n",
    "california_dateset = sklearn.datasets.fetch_california_housing(as_frame=True)"
   ]
  },
  {
   "cell_type": "code",
   "execution_count": 42,
   "metadata": {},
   "outputs": [],
   "source": [
    "# Loading california dataset for getting outliers using Zscores method\n",
    "california_dateset = sklearn.datasets.fetch_california_housing(as_frame=True)\n",
    "df = pd.DataFrame(california_dateset.data)"
   ]
  },
  {
   "cell_type": "code",
   "execution_count": 44,
   "metadata": {},
   "outputs": [],
   "source": [
    "numerical_feature = 'MedInc'"
   ]
  },
  {
   "cell_type": "code",
   "execution_count": 46,
   "metadata": {},
   "outputs": [
    {
     "name": "stdout",
     "output_type": "stream",
     "text": [
      "Outliers detecting using zscore method\n",
      "        MedInc  HouseAge  AveRooms  AveBedrms  Population  AveOccup  Latitude  \\\n",
      "131    11.6017      18.0  8.335052   1.082474       533.0  2.747423     37.84   \n",
      "409    10.0825      52.0  8.209016   1.024590       658.0  2.696721     37.90   \n",
      "510    11.8603      39.0  7.911111   0.984127       808.0  2.565079     37.82   \n",
      "511    13.4990      42.0  8.928358   1.000000      1018.0  3.038806     37.82   \n",
      "512    12.2138      52.0  9.210227   1.039773      1001.0  2.843750     37.82   \n",
      "...        ...       ...       ...        ...         ...       ...       ...   \n",
      "20376  10.2614      16.0  6.421277   0.919149       578.0  2.459574     34.16   \n",
      "20380  10.1597      16.0  7.606936   1.121387       450.0  2.601156     34.14   \n",
      "20389  10.0595      26.0  8.692308   1.076923       573.0  3.148352     34.19   \n",
      "20426  10.0472      11.0  9.890756   1.159664       415.0  3.487395     34.18   \n",
      "20436  12.5420      10.0  9.873315   1.102426      1179.0  3.177898     34.21   \n",
      "\n",
      "       Longitude  \n",
      "131      -122.19  \n",
      "409      -122.28  \n",
      "510      -122.22  \n",
      "511      -122.22  \n",
      "512      -122.23  \n",
      "...          ...  \n",
      "20376    -118.86  \n",
      "20380    -118.83  \n",
      "20389    -118.90  \n",
      "20426    -118.69  \n",
      "20436    -118.69  \n",
      "\n",
      "[345 rows x 8 columns]\n"
     ]
    }
   ],
   "source": [
    "# Calculate the Z-scores for the 'MedInc' column\n",
    "zscores =  (df[numerical_feature]- df[numerical_feature].mean())/df[numerical_feature].std()\n",
    "\n",
    "# Define the threshold for outlier detection (typically |Z| > 3)\n",
    "threshold=3\n",
    "\n",
    "# Filter rows in dataframe to exclude data points that are outliers (where |Z-score| > 3 for 'MedInc')\n",
    "outliers =  df[np.abs(zscores)> threshold]\n",
    "\n",
    "# Printing the outliers\n",
    "print(\"Outliers detecting using zscore method\")\n",
    "print(outliers)"
   ]
  },
  {
   "cell_type": "code",
   "execution_count": 48,
   "metadata": {},
   "outputs": [
    {
     "name": "stdout",
     "output_type": "stream",
     "text": [
      "[NbConvertApp] Converting notebook Week8_Lab1.ipynb to webpdf\n",
      "[NbConvertApp] Building PDF\n",
      "[NbConvertApp] PDF successfully created\n",
      "[NbConvertApp] Writing 224675 bytes to Week8_Lab1.pdf\n"
     ]
    }
   ],
   "source": [
    "!jupyter nbconvert --to webpdf --allow-chromium-download Week8_Lab1.ipynb"
   ]
  },
  {
   "cell_type": "code",
   "execution_count": null,
   "metadata": {},
   "outputs": [],
   "source": []
  }
 ],
 "metadata": {
  "colab": {
   "provenance": []
  },
  "kernelspec": {
   "display_name": "Python 3 (ipykernel)",
   "language": "python",
   "name": "python3"
  },
  "language_info": {
   "codemirror_mode": {
    "name": "ipython",
    "version": 3
   },
   "file_extension": ".py",
   "mimetype": "text/x-python",
   "name": "python",
   "nbconvert_exporter": "python",
   "pygments_lexer": "ipython3",
   "version": "3.11.5"
  }
 },
 "nbformat": 4,
 "nbformat_minor": 4
}
